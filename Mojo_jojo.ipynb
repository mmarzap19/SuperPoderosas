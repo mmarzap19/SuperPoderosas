{
 "cells": [
  {
   "cell_type": "markdown",
   "id": "b27344bb",
   "metadata": {},
   "source": [
    "# SuperPoderosas"
   ]
  },
  {
   "cell_type": "markdown",
   "id": "25d31372",
   "metadata": {},
   "source": [
    "Índice:\n",
    "\n",
    "1. Gestión de datos vacíos, imputación y otliers\n",
    "2. Numeración de las variables categóricas\n",
    "3. Separación de datos de train en train_final y train_val\n",
    "4. Normalizar variables numéricas\n",
    "5. Estudio y extracción de características\n",
    "6. Entrenamiento de modelos\n",
    "7. Validación con datos de validación estudio de modelos\n",
    "8. Uso de los datos de test y pasarlo a kaggle\n",
    "\n",
    "    8. Reversión de modificaciones\n",
    "9. Conclusiones del estudio"
   ]
  },
  {
   "cell_type": "markdown",
   "id": "1a23ab4b",
   "metadata": {},
   "source": [
    "## 1. Gestión de datos vacíos, imputación y otliers"
   ]
  },
  {
   "cell_type": "markdown",
   "id": "15774e85",
   "metadata": {},
   "source": [
    "Carga de datos:"
   ]
  },
  {
   "cell_type": "code",
   "execution_count": 2,
   "id": "8e740728",
   "metadata": {},
   "outputs": [],
   "source": [
    "import numpy as np\n",
    "import pandas as pd\n",
    "import matplotlib.pyplot as plt\n",
    "import os\n",
    "import seaborn as sns\n",
    "import warnings\n",
    "from sklearn.model_selection import train_test_split,GridSearchCV\n",
    "from sklearn.neighbors import KNeighborsClassifier\n",
    "from sklearn import metrics, preprocessing\n",
    "#warnings.filterwarnings(action='ignore')                  # Turn off the warnings.\n",
    "%matplotlib inline"
   ]
  },
  {
   "cell_type": "code",
   "execution_count": 7,
   "id": "3efdf45d",
   "metadata": {},
   "outputs": [
    {
     "data": {
      "text/plain": [
       "Index(['Id', 'MSSubClass', 'MSZoning', 'LotFrontage', 'LotArea', 'Street',\n",
       "       'Alley', 'LotShape', 'LandContour', 'Utilities', 'LotConfig',\n",
       "       'LandSlope', 'Neighborhood', 'Condition1', 'Condition2', 'BldgType',\n",
       "       'HouseStyle', 'OverallQual', 'OverallCond', 'YearBuilt', 'YearRemodAdd',\n",
       "       'RoofStyle', 'RoofMatl', 'Exterior1st', 'Exterior2nd', 'MasVnrType',\n",
       "       'MasVnrArea', 'ExterQual', 'ExterCond', 'Foundation', 'BsmtQual',\n",
       "       'BsmtCond', 'BsmtExposure', 'BsmtFinType1', 'BsmtFinSF1',\n",
       "       'BsmtFinType2', 'BsmtFinSF2', 'BsmtUnfSF', 'TotalBsmtSF', 'Heating',\n",
       "       'HeatingQC', 'CentralAir', 'Electrical', '1stFlrSF', '2ndFlrSF',\n",
       "       'LowQualFinSF', 'GrLivArea', 'BsmtFullBath', 'BsmtHalfBath', 'FullBath',\n",
       "       'HalfBath', 'BedroomAbvGr', 'KitchenAbvGr', 'KitchenQual',\n",
       "       'TotRmsAbvGrd', 'Functional', 'Fireplaces', 'FireplaceQu', 'GarageType',\n",
       "       'GarageYrBlt', 'GarageFinish', 'GarageCars', 'GarageArea', 'GarageQual',\n",
       "       'GarageCond', 'PavedDrive', 'WoodDeckSF', 'OpenPorchSF',\n",
       "       'EnclosedPorch', '3SsnPorch', 'ScreenPorch', 'PoolArea', 'PoolQC',\n",
       "       'Fence', 'MiscFeature', 'MiscVal', 'MoSold', 'YrSold', 'SaleType',\n",
       "       'SaleCondition', 'SalePrice'],\n",
       "      dtype='object')"
      ]
     },
     "execution_count": 7,
     "metadata": {},
     "output_type": "execute_result"
    }
   ],
   "source": [
    "train_dataset = pd.read_csv('train.csv', header='infer')\n",
    "test_dataset = pd.read_csv('test.csv', header='infer')\n",
    "\n",
    "train_dataset.columns\n",
    "#test_dataset\n",
    "\n"
   ]
  },
  {
   "cell_type": "markdown",
   "id": "6304b6c4",
   "metadata": {},
   "source": [
    "Id.\n",
    "MSSubClass.\n",
    "MSZoning.\n",
    "LotFrontage.\n",
    "LotArea.\n",
    "Street.\n",
    "Alley.\n",
    "LotShape.\n",
    "LandContour.\n",
    "Utilities.\n",
    "LotConfig.\n",
    "LandSlope.\n",
    "Neighborhood.\n",
    "Condition1.\n",
    "Condition2.\n",
    "BldgType.\n",
    "HouseStyle.\n",
    "OverallQual.\n",
    "OverallCond.\n",
    "YearBuilt.\n",
    "YearRemodAdd.\n",
    "RoofStyle.\n",
    "RoofMatl.\n",
    "Exterior1st.\n",
    "Exterior2nd.\n",
    "MasVnrType.\n",
    "MasVnrArea.\n",
    "ExterQual.\n",
    "ExterCond.\n",
    "Foundation.\n",
    "BsmtQual.\n",
    "BsmtCond.\n",
    "BsmtExposure.\n",
    "BsmtFinType1.\n",
    "BsmtFinSF1.\n",
    "BsmtFinType2.\n",
    "BsmtFinSF2.\n",
    "BsmtUnfSF.\n",
    "TotalBsmtSF.\n",
    "Heating.\n",
    "HeatingQC.\n",
    "CentralAir.\n",
    "Electrical.\n",
    "1stFlrSF.\n",
    "2ndFlrSF.\n",
    "LowQualFinSF.\n",
    "GrLivArea.\n",
    "BsmtFullBath.\n",
    "BsmtHalfBath.\n",
    "FullBath.\n",
    "HalfBath.\n",
    "BedroomAbvGr.\n",
    "KitchenAbvGr.\n",
    "KitchenQual.\n",
    "TotRmsAbvGrd.\n",
    "Functional.\n",
    "Fireplaces.\n",
    "FireplaceQu.\n",
    "GarageType.\n",
    "GarageYrBlt.\n",
    "GarageFinish.\n",
    "GarageCars.\n",
    "GarageArea.\n",
    "GarageQual.\n",
    "GarageCond.\n",
    "PavedDrive.\n",
    "WoodDeckSF.\n",
    "OpenPorchSF.\n",
    "EnclosedPorch.\n",
    "3SsnPorch.\n",
    "ScreenPorch.\n",
    "PoolArea.\n",
    "PoolQC.\n",
    "Fence.\n",
    "MiscFeature.\n",
    "MiscVal.\n",
    "MoSold.\n",
    "YrSold.\n",
    "SaleType.\n",
    "SaleCondition.\n",
    "SalePrice."
   ]
  },
  {
   "cell_type": "code",
   "execution_count": null,
   "id": "5b464177",
   "metadata": {},
   "outputs": [
    {
     "data": {
      "text/plain": [
       "Id                 0\n",
       "MSSubClass         0\n",
       "MSZoning           4\n",
       "LotFrontage      227\n",
       "LotArea            0\n",
       "                ... \n",
       "MiscVal            0\n",
       "MoSold             0\n",
       "YrSold             0\n",
       "SaleType           1\n",
       "SaleCondition      0\n",
       "Length: 80, dtype: int64"
      ]
     },
     "execution_count": 10,
     "metadata": {},
     "output_type": "execute_result"
    }
   ],
   "source": [
    "# Check for the missing values.\n",
    "train_dataset.isnull().sum(axis=0)\n",
    "\n",
    "# Check for the missing values.\n",
    "#test_dataset.isnull().sum(axis=0)"
   ]
  }
 ],
 "metadata": {
  "kernelspec": {
   "display_name": "base",
   "language": "python",
   "name": "python3"
  },
  "language_info": {
   "codemirror_mode": {
    "name": "ipython",
    "version": 3
   },
   "file_extension": ".py",
   "mimetype": "text/x-python",
   "name": "python",
   "nbconvert_exporter": "python",
   "pygments_lexer": "ipython3",
   "version": "3.12.7"
  }
 },
 "nbformat": 4,
 "nbformat_minor": 5
}
