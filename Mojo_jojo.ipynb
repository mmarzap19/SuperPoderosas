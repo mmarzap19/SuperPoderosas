{
 "cells": [
  {
   "cell_type": "code",
   "execution_count": null,
   "id": "b2d5defd-91fd-4ba4-a997-7a453682a0ef",
   "metadata": {},
   "outputs": [],
   "source": []
  }
 ],
 "metadata": {
  "kernelspec": {
   "display_name": "",
   "name": ""
  },
  "language_info": {
   "name": ""
  }
 },
 "nbformat": 4,
 "nbformat_minor": 5
}
