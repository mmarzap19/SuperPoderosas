{
 "cells": [
  {
   "cell_type": "code",
   "execution_count": null,
   "id": "24f5b00e",
   "metadata": {},
   "outputs": [
    {
     "name": "stdout",
     "output_type": "stream",
     "text": [
      "hello bellota\n"
     ]
    }
   ],
   "source": [
    "print(\"hello burbuja\")"
   ]
  },
  {
   "cell_type": "markdown",
   "id": "02ae15d8",
   "metadata": {},
   "source": [
    "frjcehcercvevcecevceAndres me quiero ir a casa"
   ]
  }
 ],
 "metadata": {
  "kernelspec": {
   "display_name": "base",
   "language": "python",
   "name": "python3"
  },
  "language_info": {
   "codemirror_mode": {
    "name": "ipython",
    "version": 3
   },
   "file_extension": ".py",
   "mimetype": "text/x-python",
   "name": "python",
   "nbconvert_exporter": "python",
   "pygments_lexer": "ipython3",
   "version": "3.12.7"
  }
 },
 "nbformat": 4,
 "nbformat_minor": 5
}
