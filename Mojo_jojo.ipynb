{
 "cells": [
  {
   "cell_type": "markdown",
   "id": "b27344bb",
   "metadata": {},
   "source": [
    "# SuperPoderosas"
   ]
  },
  {
   "cell_type": "markdown",
   "id": "25d31372",
   "metadata": {},
   "source": [
    "Índice:\n",
    "\n",
    "1. Gestión de datos vacíos, imputación y otliers\n",
    "2. Numeración de las variables categóricas\n",
    "3. Separación de datos de train en train_final y train_val\n",
    "4. Normalizar variables numéricas\n",
    "5. Estudio y extracción de características\n",
    "6. Entrenamiento de modelos\n",
    "7. Validación con datos de validación estudio de modelos\n",
    "8. Uso de los datos de test y pasarlo a kaggle\n",
    "\n",
    "    8. Reversión de modificaciones\n",
    "9. Conclusiones del estudio"
   ]
  },
  {
   "cell_type": "markdown",
   "id": "1a23ab4b",
   "metadata": {},
   "source": [
    "## 1. Gestión de datos vacíos, imputación y otliers"
   ]
  },
  {
   "cell_type": "markdown",
   "id": "15774e85",
   "metadata": {},
   "source": [
    "Carga de datos:"
   ]
  },
  {
   "cell_type": "code",
   "execution_count": 2,
   "id": "8e740728",
   "metadata": {},
   "outputs": [],
   "source": [
    "import numpy as np\n",
    "import pandas as pd\n",
    "import matplotlib.pyplot as plt\n",
    "import os\n",
    "import seaborn as sns\n",
    "import warnings\n",
    "from sklearn.model_selection import train_test_split,GridSearchCV\n",
    "from sklearn.neighbors import KNeighborsClassifier\n",
    "from sklearn import metrics, preprocessing\n",
    "#warnings.filterwarnings(action='ignore')                  # Turn off the warnings.\n",
    "%matplotlib inline"
   ]
  },
  {
   "cell_type": "code",
   "execution_count": 7,
   "id": "3efdf45d",
   "metadata": {},
   "outputs": [
    {
     "data": {
      "text/plain": [
       "Index(['Id', 'MSSubClass', 'MSZoning', 'LotFrontage', 'LotArea', 'Street',\n",
       "       'Alley', 'LotShape', 'LandContour', 'Utilities', 'LotConfig',\n",
       "       'LandSlope', 'Neighborhood', 'Condition1', 'Condition2', 'BldgType',\n",
       "       'HouseStyle', 'OverallQual', 'OverallCond', 'YearBuilt', 'YearRemodAdd',\n",
       "       'RoofStyle', 'RoofMatl', 'Exterior1st', 'Exterior2nd', 'MasVnrType',\n",
       "       'MasVnrArea', 'ExterQual', 'ExterCond', 'Foundation', 'BsmtQual',\n",
       "       'BsmtCond', 'BsmtExposure', 'BsmtFinType1', 'BsmtFinSF1',\n",
       "       'BsmtFinType2', 'BsmtFinSF2', 'BsmtUnfSF', 'TotalBsmtSF', 'Heating',\n",
       "       'HeatingQC', 'CentralAir', 'Electrical', '1stFlrSF', '2ndFlrSF',\n",
       "       'LowQualFinSF', 'GrLivArea', 'BsmtFullBath', 'BsmtHalfBath', 'FullBath',\n",
       "       'HalfBath', 'BedroomAbvGr', 'KitchenAbvGr', 'KitchenQual',\n",
       "       'TotRmsAbvGrd', 'Functional', 'Fireplaces', 'FireplaceQu', 'GarageType',\n",
       "       'GarageYrBlt', 'GarageFinish', 'GarageCars', 'GarageArea', 'GarageQual',\n",
       "       'GarageCond', 'PavedDrive', 'WoodDeckSF', 'OpenPorchSF',\n",
       "       'EnclosedPorch', '3SsnPorch', 'ScreenPorch', 'PoolArea', 'PoolQC',\n",
       "       'Fence', 'MiscFeature', 'MiscVal', 'MoSold', 'YrSold', 'SaleType',\n",
       "       'SaleCondition', 'SalePrice'],\n",
       "      dtype='object')"
      ]
     },
     "execution_count": 7,
     "metadata": {},
     "output_type": "execute_result"
    }
   ],
   "source": [
    "train_dataset = pd.read_csv('train.csv', header='infer')\n",
    "test_dataset = pd.read_csv('test.csv', header='infer')\n",
    "\n",
    "train_dataset.columns\n",
    "#test_dataset\n",
    "\n"
   ]
  },
  {
   "cell_type": "markdown",
   "id": "6304b6c4",
   "metadata": {},
   "source": [
    "Id.\n",
    "MSSubClass.\n",
    "MSZoning.\n",
    "LotFrontage.\n",
    "LotArea.\n",
    "Street.\n",
    "Alley.\n",
    "LotShape.\n",
    "LandContour.\n",
    "Utilities.\n",
    "LotConfig.\n",
    "LandSlope.\n",
    "Neighborhood.\n",
    "Condition1.\n",
    "Condition2.\n",
    "BldgType.\n",
    "HouseStyle.\n",
    "OverallQual.\n",
    "OverallCond.\n",
    "YearBuilt.\n",
    "YearRemodAdd.\n",
    "RoofStyle.\n",
    "RoofMatl.\n",
    "Exterior1st.\n",
    "Exterior2nd.\n",
    "MasVnrType.\n",
    "MasVnrArea.\n",
    "ExterQual.\n",
    "ExterCond.\n",
    "Foundation.\n",
    "BsmtQual.\n",
    "BsmtCond.\n",
    "BsmtExposure.\n",
    "BsmtFinType1.\n",
    "BsmtFinSF1.\n",
    "BsmtFinType2.\n",
    "BsmtFinSF2.\n",
    "BsmtUnfSF.\n",
    "TotalBsmtSF.\n",
    "Heating.\n",
    "HeatingQC.\n",
    "CentralAir.\n",
    "Electrical.\n",
    "1stFlrSF.\n",
    "2ndFlrSF.\n",
    "LowQualFinSF.\n",
    "GrLivArea.\n",
    "BsmtFullBath.\n",
    "BsmtHalfBath.\n",
    "FullBath.\n",
    "HalfBath.\n",
    "BedroomAbvGr.\n",
    "KitchenAbvGr.\n",
    "KitchenQual.\n",
    "TotRmsAbvGrd.\n",
    "Functional.\n",
    "Fireplaces.\n",
    "FireplaceQu.\n",
    "GarageType.\n",
    "GarageYrBlt.\n",
    "GarageFinish.\n",
    "GarageCars.\n",
    "GarageArea.\n",
    "GarageQual.\n",
    "GarageCond.\n",
    "PavedDrive.\n",
    "WoodDeckSF.\n",
    "OpenPorchSF.\n",
    "EnclosedPorch.\n",
    "3SsnPorch.\n",
    "ScreenPorch.\n",
    "PoolArea.\n",
    "PoolQC.\n",
    "Fence.\n",
    "MiscFeature.\n",
    "MiscVal.\n",
    "MoSold.\n",
    "YrSold.\n",
    "SaleType.\n",
    "SaleCondition.\n",
    "SalePrice."
   ]
  },
  {
   "cell_type": "code",
   "execution_count": 36,
   "id": "5b464177",
   "metadata": {},
   "outputs": [
    {
     "data": {
      "text/plain": [
       "Alley           2721.0\n",
       "BsmtCond          82.0\n",
       "BsmtExposure      82.0\n",
       "BsmtFinSF1         1.0\n",
       "BsmtFinSF2         1.0\n",
       "BsmtFinType1      79.0\n",
       "BsmtFinType2      80.0\n",
       "BsmtFullBath       2.0\n",
       "BsmtHalfBath       2.0\n",
       "BsmtQual          81.0\n",
       "BsmtUnfSF          1.0\n",
       "Electrical         1.0\n",
       "Exterior1st        1.0\n",
       "Exterior2nd        1.0\n",
       "Fence           2348.0\n",
       "FireplaceQu     1420.0\n",
       "Functional         2.0\n",
       "GarageArea         1.0\n",
       "GarageCars         1.0\n",
       "GarageCond       159.0\n",
       "GarageFinish     159.0\n",
       "GarageQual       159.0\n",
       "GarageType       157.0\n",
       "GarageYrBlt      159.0\n",
       "KitchenQual        1.0\n",
       "LotFrontage      486.0\n",
       "MSZoning           4.0\n",
       "MasVnrArea        23.0\n",
       "MasVnrType      1766.0\n",
       "MiscFeature     2814.0\n",
       "PoolQC          2909.0\n",
       "SaleType           1.0\n",
       "TotalBsmtSF        1.0\n",
       "Utilities          2.0\n",
       "dtype: float64"
      ]
     },
     "execution_count": 36,
     "metadata": {},
     "output_type": "execute_result"
    }
   ],
   "source": [
    "#  Busca valores nulos en training.\n",
    "train_data_null_values = train_dataset.isnull().sum(axis=0)\n",
    "\n",
    "train_null_val = train_data_null_values[train_data_null_values > 0 ]\n",
    "#print(train_null_val)\n",
    "\n",
    "#print(\"-------------\")\n",
    "#  Busca valores nulos en training.\n",
    "test_data_null_values = test_dataset.isnull().sum(axis=0)\n",
    "\n",
    "test_null_val = test_data_null_values[test_data_null_values > 0 ]\n",
    "#print(test_null_val)\n",
    "\n",
    "total_null_dataset = train_null_val.fillna(0).add(test_null_val.fillna(0), fill_value=0)\n",
    "total_null_dataset\n",
    "\n",
    "# "
   ]
  },
  {
   "cell_type": "markdown",
   "id": "a4af6ec3",
   "metadata": {},
   "source": [
    "Se procede a realizar un estudio de las siguientes variables para determinar qué realizar con los valores faltantes. Para ello se procederá a eliminar todas las filas con una tasa de NaN inferior al 1% (es decir, menos de 29 valores nulos)\n",
    "\n",
    "https://www.kaggle.com/code/asyaaatru/sale-price-as-detailed-as-possible"
   ]
  },
  {
   "cell_type": "markdown",
   "id": "eec312f9",
   "metadata": {},
   "source": [
    "Las columnas con 29 o menos NaN son las siguientes. Se procederá a la eliminación completa de la fila correspondiente al valor faltante: \n",
    "- BsmtFinSF1         1.0 - Filas eliminadas (Cantidad menor al umbral)\n",
    "- BsmtFinSF2         1.0 - Filas eliminadas (Cantidad menor al umbral)\n",
    "- BsmtFullBath       2.0 - Filas eliminadas (Cantidad menor al umbral)\n",
    "- BsmtHalfBath       2.0 - Filas eliminadas (Cantidad menor al umbral)\n",
    "- BsmtUnfSF          1.0 - Filas eliminadas (Cantidad menor al umbral)\n",
    "- Electrical         1.0 - Filas eliminadas (Cantidad menor al umbral)\n",
    "- Exterior1st        1.0 - Filas eliminadas (Cantidad menor al umbral)\n",
    "- Exterior2nd        1.0 - Filas eliminadas (Cantidad menor al umbral)\n",
    "- Functional         2.0 - Filas eliminadas (Cantidad menor al umbral)\n",
    "- GarageArea         1.0 - Filas eliminadas (Cantidad menor al umbral)\n",
    "- GarageCars         1.0 - Filas eliminadas (Cantidad menor al umbral)\n",
    "- KitchenQual        1.0 - Filas eliminadas (Cantidad menor al umbral)\n",
    "- MSZoning           4.0 - Filas eliminadas (Cantidad menor al umbral)\n",
    "- MasVnrArea        23.0 - Filas eliminadas (Cantidad menor al umbral)\n",
    "- SaleType           1.0 - Filas eliminadas (Cantidad menor al umbral)\n",
    "- TotalBsmtSF        1.0 - Filas eliminadas (Cantidad menor al umbral)\n",
    "- Utilities          2.0 - Filas eliminadas (Cantidad menor al umbral)"
   ]
  },
  {
   "cell_type": "markdown",
   "id": "6faf40fa",
   "metadata": {},
   "source": [
    "Una vez filtrados, estudiaremos los datos con NaN restantes uno a uno, decidiendo si eliminar o imputar:\n",
    "\n",
    "- Alley           2721.0 - Considerado como \"Cantidad = 0\"\n",
    "- BsmtCond          82.0 - Considerado como \"Cantidad = 0\"\n",
    "- BsmtExposure      82.0 - Considerado como \"Cantidad = 0\"\n",
    "- BsmtFinType1      79.0 - Considerado como \"Cantidad = 0\"\n",
    "- BsmtFinType2      80.0 - Considerado como \"Cantidad = 0\"\n",
    "- BsmtQual          81.0 - Considerado como \"Cantidad = 0\"\n",
    "- Fence           2348.0 - Considerado como \"Cantidad = 0\"\n",
    "- FireplaceQu     1420.0 - Considerado como \"Cantidad = 0\"\n",
    "- GarageCond       159.0 - Considerado como \"Cantidad = 0\"\n",
    "- GarageFinish     159.0 - Considerado como \"Cantidad = 0\"\n",
    "- GarageQual       159.0 - Considerado como \"Cantidad = 0\"\n",
    "- GarageType       157.0 - Considerado como \"Cantidad = 0\"\n",
    "- GarageYrBlt      159.0 - Considerado como \"Cantidad = 0\"\n",
    "- LotFrontage      486.0 - Valor faltante\n",
    "- MasVnrType      1766.0 - Valor faltante\n",
    "- MiscFeature     2814.0 - Considerado como \"Cantidad = 0\"\n",
    "- PoolQC          2909.0 - Considerado como \"Cantidad = 0\""
   ]
  },
  {
   "cell_type": "markdown",
   "id": "46ee947d",
   "metadata": {},
   "source": [
    "De las variables con NaN, solo en \"LotFrontage\" y \"MasVnrType\" se han considerado que los NaN hacen referencia a datos vacíos. Se procederán a descartar las columnas por las siguientes razones:\n",
    " - En \"MasVnrType\" hay más de la mitad de datos faltantes, por lo que descarta.\n",
    " - En \"LotFrontage\" hay un 16.7% de datos faltantes, por lo que se procedió a analizar su relevancia. Tras un riguroso análisis se consideró poco relevante y se eliminó del modelo final(Fuente: la de los deseos)"
   ]
  },
  {
   "cell_type": "markdown",
   "id": "3ed555e4",
   "metadata": {},
   "source": []
  },
  {
   "cell_type": "code",
   "execution_count": 24,
   "id": "e57fc2f8",
   "metadata": {},
   "outputs": [
    {
     "data": {
      "text/plain": [
       "232     21.0\n",
       "837     21.0\n",
       "235     21.0\n",
       "1029    21.0\n",
       "1038    21.0\n",
       "        ... \n",
       "1429     NaN\n",
       "1431     NaN\n",
       "1441     NaN\n",
       "1443     NaN\n",
       "1446     NaN\n",
       "Name: LotFrontage, Length: 1460, dtype: float64"
      ]
     },
     "execution_count": 24,
     "metadata": {},
     "output_type": "execute_result"
    }
   ],
   "source": [
    "train_dataset.sort_values(by='LotFrontage')[\"LotFrontage\"]"
   ]
  },
  {
   "cell_type": "code",
   "execution_count": null,
   "id": "918e56cd",
   "metadata": {},
   "outputs": [],
   "source": [
    "train_dataset[\"LotFrontage\"]"
   ]
  }
 ],
 "metadata": {
  "kernelspec": {
   "display_name": "base",
   "language": "python",
   "name": "python3"
  },
  "language_info": {
   "codemirror_mode": {
    "name": "ipython",
    "version": 3
   },
   "file_extension": ".py",
   "mimetype": "text/x-python",
   "name": "python",
   "nbconvert_exporter": "python",
   "pygments_lexer": "ipython3",
   "version": "3.12.7"
  }
 },
 "nbformat": 4,
 "nbformat_minor": 5
}
