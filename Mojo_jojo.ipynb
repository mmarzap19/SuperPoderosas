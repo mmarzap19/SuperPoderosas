{
 "cells": [
  {
   "cell_type": "code",
   "execution_count": 1,
   "id": "b2d5defd-91fd-4ba4-a997-7a453682a0ef",
   "metadata": {},
   "outputs": [
    {
     "name": "stdout",
     "output_type": "stream",
     "text": [
      "hello mojo jojo\n"
     ]
    }
   ],
   "source": [
    "print(\"hello mojo jojo\")"
   ]
  },
  {
   "cell_type": "code",
   "execution_count": null,
   "id": "24f5b00e",
   "metadata": {},
   "outputs": [],
   "source": [
    "print(\"hello bellota\")"
   ]
  }
 ],
 "metadata": {
  "kernelspec": {
   "display_name": "base",
   "language": "python",
   "name": "python3"
  },
  "language_info": {
   "codemirror_mode": {
    "name": "ipython",
    "version": 3
   },
   "file_extension": ".py",
   "mimetype": "text/x-python",
   "name": "python",
   "nbconvert_exporter": "python",
   "pygments_lexer": "ipython3",
   "version": "3.12.7"
  }
 },
 "nbformat": 4,
 "nbformat_minor": 5
}
