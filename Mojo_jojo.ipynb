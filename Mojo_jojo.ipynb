{
 "cells": [
  {
   "cell_type": "code",
   "execution_count": 1,
   "id": "b2d5defd-91fd-4ba4-a997-7a453682a0ef",
   "metadata": {},
   "outputs": [
    {
     "name": "stdout",
     "output_type": "stream",
     "text": [
      "hello mojo jojo\n"
     ]
    }
   ],
   "source": [
    "print(\"hello mojo jojo\")"
   ]
  },
  {
   "cell_type": "code",
   "execution_count": 2,
   "id": "24f5b00e",
   "metadata": {},
   "outputs": [
    {
     "name": "stdout",
     "output_type": "stream",
     "text": [
      "hello bellota\n"
     ]
    }
   ],
   "source": [
    "print(\"hello bellota\")"
   ]
  },
  {
   "cell_type": "markdown",
   "id": "02ae15d8",
   "metadata": {},
   "source": [
    "frjcehcercvevcecevce"
   ]
  }
 ],
 "metadata": {
  "kernelspec": {
   "display_name": "base",
   "language": "python",
   "name": "python3"
  },
  "language_info": {
   "codemirror_mode": {
    "name": "ipython",
    "version": 3
   },
   "file_extension": ".py",
   "mimetype": "text/x-python",
   "name": "python",
   "nbconvert_exporter": "python",
   "pygments_lexer": "ipython3",
   "version": "3.12.7"
  }
 },
 "nbformat": 4,
 "nbformat_minor": 5
}
